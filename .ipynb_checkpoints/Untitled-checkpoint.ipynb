{
 "cells": [
  {
   "cell_type": "code",
   "execution_count": 2,
   "metadata": {},
   "outputs": [
    {
     "name": "stdout",
     "output_type": "stream",
     "text": [
      "Path found with total cost of 40 in 0.1 seconds\n",
      "Search nodes expanded: 274\n",
      "Pacman emerges victorious! Score: 540\n",
      "Average Score: 540.0\n",
      "Scores:        540.0\n",
      "Win Rate:      1/1 (1.00)\n",
      "Record:        Win\n",
      "Path found with total cost of 43 in 0.0 seconds\n",
      "Search nodes expanded: 83\n",
      "Pacman emerges victorious! Score: 537\n",
      "Average Score: 537.0\n",
      "Scores:        537.0\n",
      "Win Rate:      1/1 (1.00)\n",
      "Record:        Win\n",
      "Path found with total cost of 40 in 0.3 seconds\n",
      "Search nodes expanded: 632\n",
      "Pacman emerges victorious! Score: 540\n",
      "Average Score: 540.0\n",
      "Scores:        540.0\n",
      "Win Rate:      1/1 (1.00)\n",
      "Record:        Win\n",
      "Path found with total cost of 43 in 0.2 seconds\n",
      "Search nodes expanded: 394\n",
      "Pacman emerges victorious! Score: 537\n",
      "Average Score: 537.0\n",
      "Scores:        537.0\n",
      "Win Rate:      1/1 (1.00)\n",
      "Record:        Win\n",
      "Path found with total cost of 47 in 0.1 seconds\n",
      "Search nodes expanded: 219\n",
      "Pacman emerges victorious! Score: 533\n",
      "Average Score: 533.0\n",
      "Scores:        533.0\n",
      "Win Rate:      1/1 (1.00)\n",
      "Record:        Win\n",
      "Path found with total cost of 40 in 0.2 seconds\n",
      "Search nodes expanded: 376\n",
      "Pacman emerges victorious! Score: 540\n",
      "Average Score: 540.0\n",
      "Scores:        540.0\n",
      "Win Rate:      1/1 (1.00)\n",
      "Record:        Win\n",
      "Path found with total cost of 40 in 0.1 seconds\n",
      "Search nodes expanded: 275\n",
      "Pacman emerges victorious! Score: 540\n",
      "Average Score: 540.0\n",
      "Scores:        540.0\n",
      "Win Rate:      1/1 (1.00)\n",
      "Record:        Win\n",
      "Path found with total cost of 43 in 0.1 seconds\n",
      "Search nodes expanded: 149\n",
      "Pacman emerges victorious! Score: 537\n",
      "Average Score: 537.0\n",
      "Scores:        537.0\n",
      "Win Rate:      1/1 (1.00)\n",
      "Record:        Win\n"
     ]
    }
   ],
   "source": [
    "!python pacman.py -p AStarFoodSearchAgent1 && python pacman.py -p AStarFoodSearchAgent2 && python pacman.py -p AStarFoodSearchAgent3 && python pacman.py -p AStarFoodSearchAgent4&& python pacman.py -p AStarFoodSearchAgent5 && python pacman.py -p AStarFoodSearchAgent6 && python pacman.py -p AStarFoodSearchAgent7 && python pacman.py -p AStarFoodSearchAgent8"
   ]
  },
  {
   "cell_type": "code",
   "execution_count": null,
   "metadata": {},
   "outputs": [],
   "source": [
    "!python pacman.py -p AStarFoodSearchAgent1 -l bigMaze.lay -z 0.45 && python pacman.py -p AStarFoodSearchAgent2 -l bigMaze.lay -z 0.45 && python pacman.py -p AStarFoodSearchAgent3 -l bigMaze.lay -z 0.45 && python pacman.py -p AStarFoodSearchAgent4 -l bigMaze.lay -z 0.45&& python pacman.py -p AStarFoodSearchAgent5 -l bigMaze.lay -z 0.45 && python pacman.py -p AStarFoodSearchAgent6 -l bigMaze.lay -z 0.45 && python pacman.py -p AStarFoodSearchAgent7 -l bigMaze.lay -z 0.45 && python pacman.py -p AStarFoodSearchAgent8 -l bigMaze.la -z 0.45y"
   ]
  },
  {
   "cell_type": "code",
   "execution_count": null,
   "metadata": {},
   "outputs": [],
   "source": []
  }
 ],
 "metadata": {
  "kernelspec": {
   "display_name": "Python 2",
   "language": "python",
   "name": "python2"
  },
  "language_info": {
   "codemirror_mode": {
    "name": "ipython",
    "version": 2
   },
   "file_extension": ".py",
   "mimetype": "text/x-python",
   "name": "python",
   "nbconvert_exporter": "python",
   "pygments_lexer": "ipython2",
   "version": "2.7.18"
  }
 },
 "nbformat": 4,
 "nbformat_minor": 2
}
